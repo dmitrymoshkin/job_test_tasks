{
 "cells": [
  {
   "cell_type": "markdown",
   "metadata": {},
   "source": [
    "Задание 2\n",
    "\n",
    "Вам необходимо построить модель, которая на основании данных, поступающих каждую минуту, определяют качество продукции, производимое на обжиговой машине.\n",
    "\n",
    "Обжиговая машина представляет собой агрегат, состоящий из 5 одинаковых по размеру камер, в каждой камере установлено по 3 датчика температур. Кроме этого, для данной задачи Вы собрали данные о высоте слоя сырья и его влажности. Высота слоя и влажность измеряются при входе сырья в машину. Сырье проходит через обжиговую машину за час.\n",
    "\n",
    "Данные с показателями работы обжиговой машины содержатся в файле X_data.csv.\n",
    "\n",
    "Качество продукции измеряется в лаборатории по пробам, которые забираются каждый час, данные по известным анализам содержатся в файле Y_train.csv. В файле указано время забора пробы, проба забирается на выходе из обжиговой машины.\n",
    "\n",
    "\n",
    "Вы договорились с заказчиком, что оценкой модели будет являться показатель MAE, для оценки модели необходимо сгенерировать предсказания за период, указанный в файле Y_submit.csv (5808 предиктов).\n",
    "\n"
   ]
  },
  {
   "cell_type": "code",
   "execution_count": 2,
   "metadata": {},
   "outputs": [],
   "source": [
    "import numpy as np\n",
    "import pandas as pd\n",
    "import seaborn as sns\n",
    "from matplotlib import pyplot as plt\n",
    "from sklearn.model_selection import train_test_split, cross_val_score, KFold\n",
    "from sklearn.svm import LinearSVC\n",
    "from sklearn.linear_model import SGDRegressor\n",
    "from sklearn.neighbors import KNeighborsRegressor\n",
    "from sklearn.metrics import mean_absolute_error\n",
    "from sklearn.preprocessing import StandardScaler\n",
    "from sklearn.pipeline import Pipeline\n",
    "from catboost import CatBoostRegressor, cv, Pool\n",
    "\n",
    "%matplotlib inline"
   ]
  },
  {
   "cell_type": "code",
   "execution_count": 3,
   "metadata": {},
   "outputs": [
    {
     "data": {
      "text/html": [
       "<div>\n",
       "<style scoped>\n",
       "    .dataframe tbody tr th:only-of-type {\n",
       "        vertical-align: middle;\n",
       "    }\n",
       "\n",
       "    .dataframe tbody tr th {\n",
       "        vertical-align: top;\n",
       "    }\n",
       "\n",
       "    .dataframe thead th {\n",
       "        text-align: right;\n",
       "    }\n",
       "</style>\n",
       "<table border=\"1\" class=\"dataframe\">\n",
       "  <thead>\n",
       "    <tr style=\"text-align: right;\">\n",
       "      <th></th>\n",
       "      <th>T_data_1_1</th>\n",
       "      <th>T_data_1_2</th>\n",
       "      <th>T_data_1_3</th>\n",
       "      <th>T_data_2_1</th>\n",
       "      <th>T_data_2_2</th>\n",
       "      <th>T_data_2_3</th>\n",
       "      <th>T_data_3_1</th>\n",
       "      <th>T_data_3_2</th>\n",
       "      <th>T_data_3_3</th>\n",
       "      <th>T_data_4_1</th>\n",
       "      <th>T_data_4_2</th>\n",
       "      <th>T_data_4_3</th>\n",
       "      <th>T_data_5_1</th>\n",
       "      <th>T_data_5_2</th>\n",
       "      <th>T_data_5_3</th>\n",
       "      <th>H_data</th>\n",
       "      <th>AH_data</th>\n",
       "    </tr>\n",
       "  </thead>\n",
       "  <tbody>\n",
       "    <tr>\n",
       "      <th>2015-01-01 00:00:00</th>\n",
       "      <td>212</td>\n",
       "      <td>210</td>\n",
       "      <td>211</td>\n",
       "      <td>347</td>\n",
       "      <td>353</td>\n",
       "      <td>347</td>\n",
       "      <td>474</td>\n",
       "      <td>473</td>\n",
       "      <td>481</td>\n",
       "      <td>346</td>\n",
       "      <td>348</td>\n",
       "      <td>355</td>\n",
       "      <td>241</td>\n",
       "      <td>241</td>\n",
       "      <td>243</td>\n",
       "      <td>167.85</td>\n",
       "      <td>9.22</td>\n",
       "    </tr>\n",
       "    <tr>\n",
       "      <th>2015-01-01 00:01:00</th>\n",
       "      <td>212</td>\n",
       "      <td>211</td>\n",
       "      <td>211</td>\n",
       "      <td>346</td>\n",
       "      <td>352</td>\n",
       "      <td>346</td>\n",
       "      <td>475</td>\n",
       "      <td>473</td>\n",
       "      <td>481</td>\n",
       "      <td>349</td>\n",
       "      <td>348</td>\n",
       "      <td>355</td>\n",
       "      <td>241</td>\n",
       "      <td>241</td>\n",
       "      <td>243</td>\n",
       "      <td>162.51</td>\n",
       "      <td>9.22</td>\n",
       "    </tr>\n",
       "    <tr>\n",
       "      <th>2015-01-01 00:02:00</th>\n",
       "      <td>212</td>\n",
       "      <td>211</td>\n",
       "      <td>211</td>\n",
       "      <td>345</td>\n",
       "      <td>352</td>\n",
       "      <td>346</td>\n",
       "      <td>476</td>\n",
       "      <td>473</td>\n",
       "      <td>481</td>\n",
       "      <td>352</td>\n",
       "      <td>349</td>\n",
       "      <td>355</td>\n",
       "      <td>242</td>\n",
       "      <td>241</td>\n",
       "      <td>242</td>\n",
       "      <td>164.99</td>\n",
       "      <td>9.22</td>\n",
       "    </tr>\n",
       "  </tbody>\n",
       "</table>\n",
       "</div>"
      ],
      "text/plain": [
       "                     T_data_1_1  T_data_1_2  T_data_1_3  T_data_2_1  \\\n",
       "2015-01-01 00:00:00         212         210         211         347   \n",
       "2015-01-01 00:01:00         212         211         211         346   \n",
       "2015-01-01 00:02:00         212         211         211         345   \n",
       "\n",
       "                     T_data_2_2  T_data_2_3  T_data_3_1  T_data_3_2  \\\n",
       "2015-01-01 00:00:00         353         347         474         473   \n",
       "2015-01-01 00:01:00         352         346         475         473   \n",
       "2015-01-01 00:02:00         352         346         476         473   \n",
       "\n",
       "                     T_data_3_3  T_data_4_1  T_data_4_2  T_data_4_3  \\\n",
       "2015-01-01 00:00:00         481         346         348         355   \n",
       "2015-01-01 00:01:00         481         349         348         355   \n",
       "2015-01-01 00:02:00         481         352         349         355   \n",
       "\n",
       "                     T_data_5_1  T_data_5_2  T_data_5_3  H_data  AH_data  \n",
       "2015-01-01 00:00:00         241         241         243  167.85     9.22  \n",
       "2015-01-01 00:01:00         241         241         243  162.51     9.22  \n",
       "2015-01-01 00:02:00         242         241         242  164.99     9.22  "
      ]
     },
     "execution_count": 3,
     "metadata": {},
     "output_type": "execute_result"
    }
   ],
   "source": [
    "df = pd.read_csv('X_data.csv', sep=';', index_col=0, parse_dates=True)\n",
    "df.head(3)"
   ]
  },
  {
   "cell_type": "code",
   "execution_count": 4,
   "metadata": {
    "scrolled": true
   },
   "outputs": [
    {
     "data": {
      "text/plain": [
       "((29184, 17), (29184, 1))"
      ]
     },
     "execution_count": 4,
     "metadata": {},
     "output_type": "execute_result"
    }
   ],
   "source": [
    "# Признаки и метки для обучения\n",
    "\n",
    "Y = pd.read_csv('Y_train.csv', sep=';', index_col=0, header=None, parse_dates=True)\n",
    "X = df[df.index.isin(Y.index)]\n",
    "X.shape, Y.shape"
   ]
  },
  {
   "cell_type": "code",
   "execution_count": 5,
   "metadata": {},
   "outputs": [
    {
     "data": {
      "text/html": [
       "<div>\n",
       "<style scoped>\n",
       "    .dataframe tbody tr th:only-of-type {\n",
       "        vertical-align: middle;\n",
       "    }\n",
       "\n",
       "    .dataframe tbody tr th {\n",
       "        vertical-align: top;\n",
       "    }\n",
       "\n",
       "    .dataframe thead th {\n",
       "        text-align: right;\n",
       "    }\n",
       "</style>\n",
       "<table border=\"1\" class=\"dataframe\">\n",
       "  <thead>\n",
       "    <tr style=\"text-align: right;\">\n",
       "      <th></th>\n",
       "      <th>1</th>\n",
       "    </tr>\n",
       "    <tr>\n",
       "      <th>0</th>\n",
       "      <th></th>\n",
       "    </tr>\n",
       "  </thead>\n",
       "  <tbody>\n",
       "    <tr>\n",
       "      <th>2015-01-04 00:05:00</th>\n",
       "      <td>392</td>\n",
       "    </tr>\n",
       "    <tr>\n",
       "      <th>2015-01-04 01:05:00</th>\n",
       "      <td>384</td>\n",
       "    </tr>\n",
       "    <tr>\n",
       "      <th>2015-01-04 02:05:00</th>\n",
       "      <td>393</td>\n",
       "    </tr>\n",
       "    <tr>\n",
       "      <th>2015-01-04 03:05:00</th>\n",
       "      <td>399</td>\n",
       "    </tr>\n",
       "    <tr>\n",
       "      <th>2015-01-04 04:05:00</th>\n",
       "      <td>400</td>\n",
       "    </tr>\n",
       "  </tbody>\n",
       "</table>\n",
       "</div>"
      ],
      "text/plain": [
       "                       1\n",
       "0                       \n",
       "2015-01-04 00:05:00  392\n",
       "2015-01-04 01:05:00  384\n",
       "2015-01-04 02:05:00  393\n",
       "2015-01-04 03:05:00  399\n",
       "2015-01-04 04:05:00  400"
      ]
     },
     "execution_count": 5,
     "metadata": {},
     "output_type": "execute_result"
    }
   ],
   "source": [
    "Y.head()"
   ]
  },
  {
   "cell_type": "markdown",
   "metadata": {},
   "source": [
    "### Исследование признаков"
   ]
  },
  {
   "cell_type": "markdown",
   "metadata": {},
   "source": [
    "Все признаки являются вещественными. Пропусков нет. Таблица корреляции показывает линейную зависимость между показаниями датчиков, установленных в одной камере, что закономерно."
   ]
  },
  {
   "cell_type": "code",
   "execution_count": 89,
   "metadata": {},
   "outputs": [
    {
     "data": {
      "text/html": [
       "<div>\n",
       "<style scoped>\n",
       "    .dataframe tbody tr th:only-of-type {\n",
       "        vertical-align: middle;\n",
       "    }\n",
       "\n",
       "    .dataframe tbody tr th {\n",
       "        vertical-align: top;\n",
       "    }\n",
       "\n",
       "    .dataframe thead th {\n",
       "        text-align: right;\n",
       "    }\n",
       "</style>\n",
       "<table border=\"1\" class=\"dataframe\">\n",
       "  <thead>\n",
       "    <tr style=\"text-align: right;\">\n",
       "      <th></th>\n",
       "      <th>T_data_1_1</th>\n",
       "      <th>T_data_1_2</th>\n",
       "      <th>T_data_1_3</th>\n",
       "      <th>T_data_2_1</th>\n",
       "      <th>T_data_2_2</th>\n",
       "      <th>T_data_2_3</th>\n",
       "      <th>T_data_3_1</th>\n",
       "      <th>T_data_3_2</th>\n",
       "      <th>T_data_3_3</th>\n",
       "      <th>T_data_4_1</th>\n",
       "      <th>T_data_4_2</th>\n",
       "      <th>T_data_4_3</th>\n",
       "      <th>T_data_5_1</th>\n",
       "      <th>T_data_5_2</th>\n",
       "      <th>T_data_5_3</th>\n",
       "      <th>H_data</th>\n",
       "      <th>AH_data</th>\n",
       "    </tr>\n",
       "  </thead>\n",
       "  <tbody>\n",
       "    <tr>\n",
       "      <th>T_data_1_1</th>\n",
       "      <td>1.000000</td>\n",
       "      <td>0.659668</td>\n",
       "      <td>0.649625</td>\n",
       "      <td>-0.005235</td>\n",
       "      <td>0.000708</td>\n",
       "      <td>0.000122</td>\n",
       "      <td>-0.010778</td>\n",
       "      <td>-0.007205</td>\n",
       "      <td>-0.009579</td>\n",
       "      <td>0.000628</td>\n",
       "      <td>-0.016972</td>\n",
       "      <td>-0.005507</td>\n",
       "      <td>-0.005560</td>\n",
       "      <td>-0.006180</td>\n",
       "      <td>-0.015449</td>\n",
       "      <td>-0.019331</td>\n",
       "      <td>-0.001418</td>\n",
       "    </tr>\n",
       "    <tr>\n",
       "      <th>T_data_1_2</th>\n",
       "      <td>0.659668</td>\n",
       "      <td>1.000000</td>\n",
       "      <td>0.690438</td>\n",
       "      <td>0.008710</td>\n",
       "      <td>0.009286</td>\n",
       "      <td>0.011731</td>\n",
       "      <td>-0.002342</td>\n",
       "      <td>-0.013459</td>\n",
       "      <td>-0.011845</td>\n",
       "      <td>-0.001686</td>\n",
       "      <td>-0.020158</td>\n",
       "      <td>-0.007527</td>\n",
       "      <td>-0.014022</td>\n",
       "      <td>-0.018872</td>\n",
       "      <td>-0.023108</td>\n",
       "      <td>-0.017738</td>\n",
       "      <td>-0.000291</td>\n",
       "    </tr>\n",
       "    <tr>\n",
       "      <th>T_data_1_3</th>\n",
       "      <td>0.649625</td>\n",
       "      <td>0.690438</td>\n",
       "      <td>1.000000</td>\n",
       "      <td>0.002835</td>\n",
       "      <td>0.007235</td>\n",
       "      <td>0.011749</td>\n",
       "      <td>-0.006373</td>\n",
       "      <td>-0.007384</td>\n",
       "      <td>-0.010108</td>\n",
       "      <td>0.005209</td>\n",
       "      <td>-0.003454</td>\n",
       "      <td>0.000794</td>\n",
       "      <td>-0.021769</td>\n",
       "      <td>-0.030411</td>\n",
       "      <td>-0.035314</td>\n",
       "      <td>-0.012020</td>\n",
       "      <td>-0.002702</td>\n",
       "    </tr>\n",
       "    <tr>\n",
       "      <th>T_data_2_1</th>\n",
       "      <td>-0.005235</td>\n",
       "      <td>0.008710</td>\n",
       "      <td>0.002835</td>\n",
       "      <td>1.000000</td>\n",
       "      <td>0.355370</td>\n",
       "      <td>0.389946</td>\n",
       "      <td>-0.010062</td>\n",
       "      <td>-0.007176</td>\n",
       "      <td>-0.004971</td>\n",
       "      <td>0.021294</td>\n",
       "      <td>0.010942</td>\n",
       "      <td>0.025101</td>\n",
       "      <td>0.002258</td>\n",
       "      <td>-0.009570</td>\n",
       "      <td>-0.003175</td>\n",
       "      <td>-0.001611</td>\n",
       "      <td>-0.001315</td>\n",
       "    </tr>\n",
       "    <tr>\n",
       "      <th>T_data_2_2</th>\n",
       "      <td>0.000708</td>\n",
       "      <td>0.009286</td>\n",
       "      <td>0.007235</td>\n",
       "      <td>0.355370</td>\n",
       "      <td>1.000000</td>\n",
       "      <td>0.404360</td>\n",
       "      <td>-0.023292</td>\n",
       "      <td>-0.000592</td>\n",
       "      <td>-0.017482</td>\n",
       "      <td>0.008122</td>\n",
       "      <td>-0.005910</td>\n",
       "      <td>0.014449</td>\n",
       "      <td>0.010317</td>\n",
       "      <td>0.008459</td>\n",
       "      <td>0.008991</td>\n",
       "      <td>0.013029</td>\n",
       "      <td>0.002594</td>\n",
       "    </tr>\n",
       "    <tr>\n",
       "      <th>T_data_2_3</th>\n",
       "      <td>0.000122</td>\n",
       "      <td>0.011731</td>\n",
       "      <td>0.011749</td>\n",
       "      <td>0.389946</td>\n",
       "      <td>0.404360</td>\n",
       "      <td>1.000000</td>\n",
       "      <td>-0.000805</td>\n",
       "      <td>-0.000372</td>\n",
       "      <td>0.001864</td>\n",
       "      <td>0.010093</td>\n",
       "      <td>0.006046</td>\n",
       "      <td>0.013371</td>\n",
       "      <td>0.010390</td>\n",
       "      <td>-0.000028</td>\n",
       "      <td>0.011401</td>\n",
       "      <td>0.008324</td>\n",
       "      <td>0.002564</td>\n",
       "    </tr>\n",
       "    <tr>\n",
       "      <th>T_data_3_1</th>\n",
       "      <td>-0.010778</td>\n",
       "      <td>-0.002342</td>\n",
       "      <td>-0.006373</td>\n",
       "      <td>-0.010062</td>\n",
       "      <td>-0.023292</td>\n",
       "      <td>-0.000805</td>\n",
       "      <td>1.000000</td>\n",
       "      <td>0.527216</td>\n",
       "      <td>0.558841</td>\n",
       "      <td>-0.025132</td>\n",
       "      <td>-0.025089</td>\n",
       "      <td>-0.015367</td>\n",
       "      <td>0.007238</td>\n",
       "      <td>0.008074</td>\n",
       "      <td>0.003190</td>\n",
       "      <td>0.018755</td>\n",
       "      <td>-0.005755</td>\n",
       "    </tr>\n",
       "    <tr>\n",
       "      <th>T_data_3_2</th>\n",
       "      <td>-0.007205</td>\n",
       "      <td>-0.013459</td>\n",
       "      <td>-0.007384</td>\n",
       "      <td>-0.007176</td>\n",
       "      <td>-0.000592</td>\n",
       "      <td>-0.000372</td>\n",
       "      <td>0.527216</td>\n",
       "      <td>1.000000</td>\n",
       "      <td>0.540306</td>\n",
       "      <td>-0.018672</td>\n",
       "      <td>-0.031407</td>\n",
       "      <td>-0.019870</td>\n",
       "      <td>0.005811</td>\n",
       "      <td>0.001764</td>\n",
       "      <td>0.008637</td>\n",
       "      <td>0.013194</td>\n",
       "      <td>0.001493</td>\n",
       "    </tr>\n",
       "    <tr>\n",
       "      <th>T_data_3_3</th>\n",
       "      <td>-0.009579</td>\n",
       "      <td>-0.011845</td>\n",
       "      <td>-0.010108</td>\n",
       "      <td>-0.004971</td>\n",
       "      <td>-0.017482</td>\n",
       "      <td>0.001864</td>\n",
       "      <td>0.558841</td>\n",
       "      <td>0.540306</td>\n",
       "      <td>1.000000</td>\n",
       "      <td>-0.010582</td>\n",
       "      <td>-0.012529</td>\n",
       "      <td>-0.011642</td>\n",
       "      <td>-0.009149</td>\n",
       "      <td>0.003999</td>\n",
       "      <td>-0.001516</td>\n",
       "      <td>0.010508</td>\n",
       "      <td>0.001088</td>\n",
       "    </tr>\n",
       "    <tr>\n",
       "      <th>T_data_4_1</th>\n",
       "      <td>0.000628</td>\n",
       "      <td>-0.001686</td>\n",
       "      <td>0.005209</td>\n",
       "      <td>0.021294</td>\n",
       "      <td>0.008122</td>\n",
       "      <td>0.010093</td>\n",
       "      <td>-0.025132</td>\n",
       "      <td>-0.018672</td>\n",
       "      <td>-0.010582</td>\n",
       "      <td>1.000000</td>\n",
       "      <td>0.414581</td>\n",
       "      <td>0.421842</td>\n",
       "      <td>-0.005767</td>\n",
       "      <td>-0.006066</td>\n",
       "      <td>0.001401</td>\n",
       "      <td>-0.011916</td>\n",
       "      <td>0.000479</td>\n",
       "    </tr>\n",
       "    <tr>\n",
       "      <th>T_data_4_2</th>\n",
       "      <td>-0.016972</td>\n",
       "      <td>-0.020158</td>\n",
       "      <td>-0.003454</td>\n",
       "      <td>0.010942</td>\n",
       "      <td>-0.005910</td>\n",
       "      <td>0.006046</td>\n",
       "      <td>-0.025089</td>\n",
       "      <td>-0.031407</td>\n",
       "      <td>-0.012529</td>\n",
       "      <td>0.414581</td>\n",
       "      <td>1.000000</td>\n",
       "      <td>0.401765</td>\n",
       "      <td>-0.007129</td>\n",
       "      <td>-0.020589</td>\n",
       "      <td>-0.003117</td>\n",
       "      <td>-0.009126</td>\n",
       "      <td>0.005802</td>\n",
       "    </tr>\n",
       "    <tr>\n",
       "      <th>T_data_4_3</th>\n",
       "      <td>-0.005507</td>\n",
       "      <td>-0.007527</td>\n",
       "      <td>0.000794</td>\n",
       "      <td>0.025101</td>\n",
       "      <td>0.014449</td>\n",
       "      <td>0.013371</td>\n",
       "      <td>-0.015367</td>\n",
       "      <td>-0.019870</td>\n",
       "      <td>-0.011642</td>\n",
       "      <td>0.421842</td>\n",
       "      <td>0.401765</td>\n",
       "      <td>1.000000</td>\n",
       "      <td>0.002890</td>\n",
       "      <td>-0.005595</td>\n",
       "      <td>0.005293</td>\n",
       "      <td>-0.010648</td>\n",
       "      <td>0.005715</td>\n",
       "    </tr>\n",
       "    <tr>\n",
       "      <th>T_data_5_1</th>\n",
       "      <td>-0.005560</td>\n",
       "      <td>-0.014022</td>\n",
       "      <td>-0.021769</td>\n",
       "      <td>0.002258</td>\n",
       "      <td>0.010317</td>\n",
       "      <td>0.010390</td>\n",
       "      <td>0.007238</td>\n",
       "      <td>0.005811</td>\n",
       "      <td>-0.009149</td>\n",
       "      <td>-0.005767</td>\n",
       "      <td>-0.007129</td>\n",
       "      <td>0.002890</td>\n",
       "      <td>1.000000</td>\n",
       "      <td>0.663629</td>\n",
       "      <td>0.662318</td>\n",
       "      <td>0.011871</td>\n",
       "      <td>-0.008084</td>\n",
       "    </tr>\n",
       "    <tr>\n",
       "      <th>T_data_5_2</th>\n",
       "      <td>-0.006180</td>\n",
       "      <td>-0.018872</td>\n",
       "      <td>-0.030411</td>\n",
       "      <td>-0.009570</td>\n",
       "      <td>0.008459</td>\n",
       "      <td>-0.000028</td>\n",
       "      <td>0.008074</td>\n",
       "      <td>0.001764</td>\n",
       "      <td>0.003999</td>\n",
       "      <td>-0.006066</td>\n",
       "      <td>-0.020589</td>\n",
       "      <td>-0.005595</td>\n",
       "      <td>0.663629</td>\n",
       "      <td>1.000000</td>\n",
       "      <td>0.668826</td>\n",
       "      <td>0.015424</td>\n",
       "      <td>-0.005707</td>\n",
       "    </tr>\n",
       "    <tr>\n",
       "      <th>T_data_5_3</th>\n",
       "      <td>-0.015449</td>\n",
       "      <td>-0.023108</td>\n",
       "      <td>-0.035314</td>\n",
       "      <td>-0.003175</td>\n",
       "      <td>0.008991</td>\n",
       "      <td>0.011401</td>\n",
       "      <td>0.003190</td>\n",
       "      <td>0.008637</td>\n",
       "      <td>-0.001516</td>\n",
       "      <td>0.001401</td>\n",
       "      <td>-0.003117</td>\n",
       "      <td>0.005293</td>\n",
       "      <td>0.662318</td>\n",
       "      <td>0.668826</td>\n",
       "      <td>1.000000</td>\n",
       "      <td>0.002500</td>\n",
       "      <td>-0.003072</td>\n",
       "    </tr>\n",
       "    <tr>\n",
       "      <th>H_data</th>\n",
       "      <td>-0.019331</td>\n",
       "      <td>-0.017738</td>\n",
       "      <td>-0.012020</td>\n",
       "      <td>-0.001611</td>\n",
       "      <td>0.013029</td>\n",
       "      <td>0.008324</td>\n",
       "      <td>0.018755</td>\n",
       "      <td>0.013194</td>\n",
       "      <td>0.010508</td>\n",
       "      <td>-0.011916</td>\n",
       "      <td>-0.009126</td>\n",
       "      <td>-0.010648</td>\n",
       "      <td>0.011871</td>\n",
       "      <td>0.015424</td>\n",
       "      <td>0.002500</td>\n",
       "      <td>1.000000</td>\n",
       "      <td>-0.006939</td>\n",
       "    </tr>\n",
       "    <tr>\n",
       "      <th>AH_data</th>\n",
       "      <td>-0.001418</td>\n",
       "      <td>-0.000291</td>\n",
       "      <td>-0.002702</td>\n",
       "      <td>-0.001315</td>\n",
       "      <td>0.002594</td>\n",
       "      <td>0.002564</td>\n",
       "      <td>-0.005755</td>\n",
       "      <td>0.001493</td>\n",
       "      <td>0.001088</td>\n",
       "      <td>0.000479</td>\n",
       "      <td>0.005802</td>\n",
       "      <td>0.005715</td>\n",
       "      <td>-0.008084</td>\n",
       "      <td>-0.005707</td>\n",
       "      <td>-0.003072</td>\n",
       "      <td>-0.006939</td>\n",
       "      <td>1.000000</td>\n",
       "    </tr>\n",
       "  </tbody>\n",
       "</table>\n",
       "</div>"
      ],
      "text/plain": [
       "            T_data_1_1  T_data_1_2  T_data_1_3  T_data_2_1  T_data_2_2  \\\n",
       "T_data_1_1    1.000000    0.659668    0.649625   -0.005235    0.000708   \n",
       "T_data_1_2    0.659668    1.000000    0.690438    0.008710    0.009286   \n",
       "T_data_1_3    0.649625    0.690438    1.000000    0.002835    0.007235   \n",
       "T_data_2_1   -0.005235    0.008710    0.002835    1.000000    0.355370   \n",
       "T_data_2_2    0.000708    0.009286    0.007235    0.355370    1.000000   \n",
       "T_data_2_3    0.000122    0.011731    0.011749    0.389946    0.404360   \n",
       "T_data_3_1   -0.010778   -0.002342   -0.006373   -0.010062   -0.023292   \n",
       "T_data_3_2   -0.007205   -0.013459   -0.007384   -0.007176   -0.000592   \n",
       "T_data_3_3   -0.009579   -0.011845   -0.010108   -0.004971   -0.017482   \n",
       "T_data_4_1    0.000628   -0.001686    0.005209    0.021294    0.008122   \n",
       "T_data_4_2   -0.016972   -0.020158   -0.003454    0.010942   -0.005910   \n",
       "T_data_4_3   -0.005507   -0.007527    0.000794    0.025101    0.014449   \n",
       "T_data_5_1   -0.005560   -0.014022   -0.021769    0.002258    0.010317   \n",
       "T_data_5_2   -0.006180   -0.018872   -0.030411   -0.009570    0.008459   \n",
       "T_data_5_3   -0.015449   -0.023108   -0.035314   -0.003175    0.008991   \n",
       "H_data       -0.019331   -0.017738   -0.012020   -0.001611    0.013029   \n",
       "AH_data      -0.001418   -0.000291   -0.002702   -0.001315    0.002594   \n",
       "\n",
       "            T_data_2_3  T_data_3_1  T_data_3_2  T_data_3_3  T_data_4_1  \\\n",
       "T_data_1_1    0.000122   -0.010778   -0.007205   -0.009579    0.000628   \n",
       "T_data_1_2    0.011731   -0.002342   -0.013459   -0.011845   -0.001686   \n",
       "T_data_1_3    0.011749   -0.006373   -0.007384   -0.010108    0.005209   \n",
       "T_data_2_1    0.389946   -0.010062   -0.007176   -0.004971    0.021294   \n",
       "T_data_2_2    0.404360   -0.023292   -0.000592   -0.017482    0.008122   \n",
       "T_data_2_3    1.000000   -0.000805   -0.000372    0.001864    0.010093   \n",
       "T_data_3_1   -0.000805    1.000000    0.527216    0.558841   -0.025132   \n",
       "T_data_3_2   -0.000372    0.527216    1.000000    0.540306   -0.018672   \n",
       "T_data_3_3    0.001864    0.558841    0.540306    1.000000   -0.010582   \n",
       "T_data_4_1    0.010093   -0.025132   -0.018672   -0.010582    1.000000   \n",
       "T_data_4_2    0.006046   -0.025089   -0.031407   -0.012529    0.414581   \n",
       "T_data_4_3    0.013371   -0.015367   -0.019870   -0.011642    0.421842   \n",
       "T_data_5_1    0.010390    0.007238    0.005811   -0.009149   -0.005767   \n",
       "T_data_5_2   -0.000028    0.008074    0.001764    0.003999   -0.006066   \n",
       "T_data_5_3    0.011401    0.003190    0.008637   -0.001516    0.001401   \n",
       "H_data        0.008324    0.018755    0.013194    0.010508   -0.011916   \n",
       "AH_data       0.002564   -0.005755    0.001493    0.001088    0.000479   \n",
       "\n",
       "            T_data_4_2  T_data_4_3  T_data_5_1  T_data_5_2  T_data_5_3  \\\n",
       "T_data_1_1   -0.016972   -0.005507   -0.005560   -0.006180   -0.015449   \n",
       "T_data_1_2   -0.020158   -0.007527   -0.014022   -0.018872   -0.023108   \n",
       "T_data_1_3   -0.003454    0.000794   -0.021769   -0.030411   -0.035314   \n",
       "T_data_2_1    0.010942    0.025101    0.002258   -0.009570   -0.003175   \n",
       "T_data_2_2   -0.005910    0.014449    0.010317    0.008459    0.008991   \n",
       "T_data_2_3    0.006046    0.013371    0.010390   -0.000028    0.011401   \n",
       "T_data_3_1   -0.025089   -0.015367    0.007238    0.008074    0.003190   \n",
       "T_data_3_2   -0.031407   -0.019870    0.005811    0.001764    0.008637   \n",
       "T_data_3_3   -0.012529   -0.011642   -0.009149    0.003999   -0.001516   \n",
       "T_data_4_1    0.414581    0.421842   -0.005767   -0.006066    0.001401   \n",
       "T_data_4_2    1.000000    0.401765   -0.007129   -0.020589   -0.003117   \n",
       "T_data_4_3    0.401765    1.000000    0.002890   -0.005595    0.005293   \n",
       "T_data_5_1   -0.007129    0.002890    1.000000    0.663629    0.662318   \n",
       "T_data_5_2   -0.020589   -0.005595    0.663629    1.000000    0.668826   \n",
       "T_data_5_3   -0.003117    0.005293    0.662318    0.668826    1.000000   \n",
       "H_data       -0.009126   -0.010648    0.011871    0.015424    0.002500   \n",
       "AH_data       0.005802    0.005715   -0.008084   -0.005707   -0.003072   \n",
       "\n",
       "              H_data   AH_data  \n",
       "T_data_1_1 -0.019331 -0.001418  \n",
       "T_data_1_2 -0.017738 -0.000291  \n",
       "T_data_1_3 -0.012020 -0.002702  \n",
       "T_data_2_1 -0.001611 -0.001315  \n",
       "T_data_2_2  0.013029  0.002594  \n",
       "T_data_2_3  0.008324  0.002564  \n",
       "T_data_3_1  0.018755 -0.005755  \n",
       "T_data_3_2  0.013194  0.001493  \n",
       "T_data_3_3  0.010508  0.001088  \n",
       "T_data_4_1 -0.011916  0.000479  \n",
       "T_data_4_2 -0.009126  0.005802  \n",
       "T_data_4_3 -0.010648  0.005715  \n",
       "T_data_5_1  0.011871 -0.008084  \n",
       "T_data_5_2  0.015424 -0.005707  \n",
       "T_data_5_3  0.002500 -0.003072  \n",
       "H_data      1.000000 -0.006939  \n",
       "AH_data    -0.006939  1.000000  "
      ]
     },
     "execution_count": 89,
     "metadata": {},
     "output_type": "execute_result"
    }
   ],
   "source": [
    "X.corr()"
   ]
  },
  {
   "cell_type": "markdown",
   "metadata": {},
   "source": [
    "Обучим и оценим модели SGD-регрессии, k-ближайших соседей и градиентного бустинга. Признаки масштабируем. Оцениваем модель на 3-фолдах кроссвалидации с перемешиванием и валидационной выборке. Для оценки используем MAE."
   ]
  },
  {
   "cell_type": "markdown",
   "metadata": {},
   "source": [
    "Разобьем обучающую выборку на 2 части в пропорции 7/3 с перемешиванием."
   ]
  },
  {
   "cell_type": "code",
   "execution_count": 6,
   "metadata": {},
   "outputs": [
    {
     "data": {
      "text/plain": [
       "((20428, 17), (8756, 17))"
      ]
     },
     "execution_count": 6,
     "metadata": {},
     "output_type": "execute_result"
    }
   ],
   "source": [
    "x_train, x_valid, y_train, y_valid = train_test_split(X, Y, test_size=0.3)\n",
    "x_train.shape, x_valid.shape"
   ]
  },
  {
   "cell_type": "markdown",
   "metadata": {},
   "source": [
    "### SGD-регрессор"
   ]
  },
  {
   "cell_type": "code",
   "execution_count": 59,
   "metadata": {},
   "outputs": [
    {
     "name": "stdout",
     "output_type": "stream",
     "text": [
      "Средняя абсолютная ошибка на кросс-валидации: 15.599230\n"
     ]
    }
   ],
   "source": [
    "\n",
    "cross_val_results = []\n",
    "sgdmodel = SGDRegressor(random_state=32)\n",
    "scaler = StandardScaler()\n",
    "sgd_pipeline = Pipeline([('scaler', scaler), ('estimator', sgdmodel)])\n",
    "kf = KFold(n_splits = 3, shuffle=True, random_state=32)\n",
    "for train_indices, test_indices in kf.split(x_train):\n",
    "    sgd_pipeline.fit(x_train.values[train_indices], np.ravel(y_train)[train_indices])\n",
    "    cross_val_results.append(mean_absolute_error(sgd_pipeline.predict(x_train.values[test_indices]), \n",
    "                                                 np.ravel(y_train)[test_indices]))\n",
    "\n",
    "print('Средняя абсолютная ошибка на кросс-валидации: %f' % np.mean(cross_val_results))"
   ]
  },
  {
   "cell_type": "code",
   "execution_count": 60,
   "metadata": {},
   "outputs": [
    {
     "name": "stdout",
     "output_type": "stream",
     "text": [
      "Средняя абсолютная ошибка на отложенной выборке: 16.480262\n"
     ]
    }
   ],
   "source": [
    "sgd_pipeline.fit(x_train.values, np.ravel(y_train))\n",
    "print('Средняя абсолютная ошибка на отложенной выборке: %f' \n",
    "      % mean_absolute_error(pipeline.predict(x_valid), y_valid))"
   ]
  },
  {
   "cell_type": "code",
   "execution_count": 36,
   "metadata": {},
   "outputs": [
    {
     "data": {
      "text/plain": [
       "array([354.74456372, 372.22854195, 401.3326712 , ..., 477.25866122,\n",
       "       483.71824358, 465.97613312])"
      ]
     },
     "execution_count": 36,
     "metadata": {},
     "output_type": "execute_result"
    }
   ],
   "source": [
    "# Предсказанные метки\n",
    "\n",
    "pipeline.predict(X.values[test_indices])"
   ]
  },
  {
   "cell_type": "markdown",
   "metadata": {},
   "source": [
    "### kNN"
   ]
  },
  {
   "cell_type": "code",
   "execution_count": 62,
   "metadata": {},
   "outputs": [
    {
     "name": "stdout",
     "output_type": "stream",
     "text": [
      "Средняя абсолютная ошибка на кросс-валидации: 14.494560\n"
     ]
    }
   ],
   "source": [
    "cross_val_results = []\n",
    "knnmodel = KNeighborsRegressor()\n",
    "scaler = StandardScaler()\n",
    "knn_pipeline = Pipeline([('scaler', scaler), ('estimator', knnmodel)])\n",
    "kf = KFold(n_splits = 3, shuffle=True, random_state=32)\n",
    "for train_indices, test_indices in kf.split(x_train):\n",
    "    knn_pipeline.fit(x_train.values[train_indices], np.ravel(y_train)[train_indices])\n",
    "    cross_val_results.append(mean_absolute_error(knn_pipeline.predict(x_train.values[test_indices]), \n",
    "                                                 np.ravel(y_train)[test_indices]))\n",
    "\n",
    "print('Средняя абсолютная ошибка на кросс-валидации: %f' % np.mean(cross_val_results))"
   ]
  },
  {
   "cell_type": "code",
   "execution_count": 63,
   "metadata": {},
   "outputs": [
    {
     "name": "stdout",
     "output_type": "stream",
     "text": [
      "Средняя абсолютная ошибка на отложенной выборке: 12.091777\n"
     ]
    }
   ],
   "source": [
    "knn_pipeline.fit(x_train.values, np.ravel(y_train))\n",
    "print('Средняя абсолютная ошибка на отложенной выборке: %f' \n",
    "      % mean_absolute_error(knnpipeline.predict(x_valid), y_valid))"
   ]
  },
  {
   "cell_type": "markdown",
   "metadata": {},
   "source": [
    "### Gradient boosting with Catboost"
   ]
  },
  {
   "cell_type": "code",
   "execution_count": 45,
   "metadata": {},
   "outputs": [
    {
     "name": "stdout",
     "output_type": "stream",
     "text": [
      "0:\tlearn: 393.9631860\ttest: 393.9738584\tbest: 393.9738584 (0)\ttotal: 304ms\tremaining: 5m 3s\n",
      "200:\tlearn: 15.1240805\ttest: 15.4844940\tbest: 15.4844940 (200)\ttotal: 56.5s\tremaining: 3m 44s\n",
      "400:\tlearn: 14.2288866\ttest: 14.6772222\tbest: 14.6772222 (400)\ttotal: 1m 46s\tremaining: 2m 39s\n",
      "600:\tlearn: 14.0953422\ttest: 14.5658353\tbest: 14.5658353 (600)\ttotal: 2m 32s\tremaining: 1m 40s\n",
      "800:\tlearn: 14.0077515\ttest: 14.4964979\tbest: 14.4964382 (791)\ttotal: 3m 21s\tremaining: 50s\n",
      "999:\tlearn: 13.9462791\ttest: 14.4425649\tbest: 14.4425138 (993)\ttotal: 4m 6s\tremaining: 0us\n"
     ]
    }
   ],
   "source": [
    "# Кросс-валидация \n",
    "\n",
    "params = {'loss_function':'RMSE',\n",
    "         'verbose':200,\n",
    "         'random_seed':32\n",
    "         }\n",
    "pool = Pool(x_train, y_train)\n",
    "scores = cv(pool=pool,\n",
    "            params=params,\n",
    "           fold_count=3,\n",
    "           seed=32,\n",
    "            partition_random_seed=32,\n",
    "           shuffle=True,\n",
    "           )"
   ]
  },
  {
   "cell_type": "code",
   "execution_count": 69,
   "metadata": {},
   "outputs": [
    {
     "name": "stdout",
     "output_type": "stream",
     "text": [
      "0:\tlearn: 37.0597542\ttest: 36.9169338\tbest: 36.9169338 (0)\ttotal: 79.7ms\tremaining: 1m 35s\n",
      "200:\tlearn: 10.9712755\ttest: 10.9232868\tbest: 10.9232868 (200)\ttotal: 11.4s\tremaining: 56.8s\n",
      "400:\tlearn: 10.3254859\ttest: 10.3691404\tbest: 10.3691404 (400)\ttotal: 23.6s\tremaining: 47s\n",
      "600:\tlearn: 10.1376623\ttest: 10.2358794\tbest: 10.2358794 (600)\ttotal: 34.9s\tremaining: 34.7s\n",
      "800:\tlearn: 9.9972581\ttest: 10.1487308\tbest: 10.1487308 (800)\ttotal: 46.4s\tremaining: 23.1s\n",
      "1000:\tlearn: 9.8719306\ttest: 10.0814464\tbest: 10.0814464 (1000)\ttotal: 57.4s\tremaining: 11.4s\n",
      "1199:\tlearn: 9.7715085\ttest: 10.0366331\tbest: 10.0366331 (1199)\ttotal: 1m 9s\tremaining: 0us\n",
      "\n",
      "bestTest = 10.03663308\n",
      "bestIteration = 1199\n",
      "\n"
     ]
    },
    {
     "data": {
      "text/plain": [
       "<catboost.core.CatBoostRegressor at 0x1aba7efc860>"
      ]
     },
     "execution_count": 69,
     "metadata": {},
     "output_type": "execute_result"
    }
   ],
   "source": [
    "# Обучение и оценка на отложенной выборке (итоговый результат MAE: 10.217)\n",
    "\n",
    "cross_val_results = []\n",
    "tb = CatBoostRegressor(random_seed=32, eval_metric = 'MAE', verbose = 200, iterations=1200)\n",
    "scaler = StandardScaler()\n",
    "tb.fit(x_train, np.ravel(y_train), early_stopping_rounds = 500, \n",
    "               eval_set=(x_valid, y_valid),\n",
    "              use_best_model=True);"
   ]
  },
  {
   "cell_type": "code",
   "execution_count": 70,
   "metadata": {},
   "outputs": [
    {
     "data": {
      "text/plain": [
       "array([ 1.77453377,  2.07662789,  2.07340606,  0.87726172,  0.91681897,\n",
       "        0.9779288 , 27.85800356, 27.69484092, 20.93391305,  0.13196822,\n",
       "        0.15129945,  0.14993423,  3.45356574,  2.49358566,  3.34300304,\n",
       "        4.98125546,  0.11205347])"
      ]
     },
     "execution_count": 70,
     "metadata": {},
     "output_type": "execute_result"
    }
   ],
   "source": [
    "# Вклад признаков в предсказание\n",
    "\n",
    "tb.get_feature_importance()"
   ]
  },
  {
   "cell_type": "markdown",
   "metadata": {},
   "source": [
    "Остановимся на модели бустинга в силу более высокого качества на кросс-валидации и отложенной выборке.\n",
    "\n",
    "Проведем подбор параметров бустинга по сетке."
   ]
  },
  {
   "cell_type": "code",
   "execution_count": 7,
   "metadata": {},
   "outputs": [
    {
     "name": "stdout",
     "output_type": "stream",
     "text": [
      "0:\tloss: 10.4560293\tbest: 10.4560293 (0)\ttotal: 37.1s\tremaining: 3m 5s\n",
      "1:\tloss: 10.5052125\tbest: 10.4560293 (0)\ttotal: 1m 16s\tremaining: 2m 32s\n",
      "2:\tloss: 10.6261227\tbest: 10.4560293 (0)\ttotal: 1m 56s\tremaining: 1m 56s\n",
      "3:\tloss: 11.2247201\tbest: 10.4560293 (0)\ttotal: 2m 47s\tremaining: 1m 23s\n",
      "4:\tloss: 11.3022512\tbest: 10.4560293 (0)\ttotal: 3m 46s\tremaining: 45.3s\n",
      "5:\tloss: 11.1387208\tbest: 10.4560293 (0)\ttotal: 5m 33s\tremaining: 0us\n",
      "Estimating final quality...\n"
     ]
    }
   ],
   "source": [
    "tb_grid = CatBoostRegressor(random_seed=32, eval_metric = 'MAE', verbose = 200, iterations=1200)\n",
    "params = {'depth': [5, 7],\n",
    "        'l2_leaf_reg': [1, 2, 5]\n",
    "         }\n",
    "grid_search_result = tb_grid.grid_search(params, X=x_train, y=y_train, train_size=0.7)"
   ]
  },
  {
   "cell_type": "markdown",
   "metadata": {},
   "source": [
    "Остановимся на модели с параметрами по-умолчанию."
   ]
  },
  {
   "cell_type": "code",
   "execution_count": 71,
   "metadata": {},
   "outputs": [
    {
     "data": {
      "text/plain": [
       "((5808, 1), (5808, 17))"
      ]
     },
     "execution_count": 71,
     "metadata": {},
     "output_type": "execute_result"
    }
   ],
   "source": [
    "# Признаки и метки для предикта\n",
    "\n",
    "y_submit = pd.read_csv('Y_submit.csv', sep=';', index_col=0, header=None, parse_dates=True)\n",
    "x_submit = df[df.index.isin(y_submit.index)]\n",
    "y_submit.shape, x_submit.shape"
   ]
  },
  {
   "cell_type": "code",
   "execution_count": 114,
   "metadata": {},
   "outputs": [
    {
     "data": {
      "text/html": [
       "<div>\n",
       "<style scoped>\n",
       "    .dataframe tbody tr th:only-of-type {\n",
       "        vertical-align: middle;\n",
       "    }\n",
       "\n",
       "    .dataframe tbody tr th {\n",
       "        vertical-align: top;\n",
       "    }\n",
       "\n",
       "    .dataframe thead th {\n",
       "        text-align: right;\n",
       "    }\n",
       "</style>\n",
       "<table border=\"1\" class=\"dataframe\">\n",
       "  <thead>\n",
       "    <tr style=\"text-align: right;\">\n",
       "      <th></th>\n",
       "      <th>1</th>\n",
       "    </tr>\n",
       "    <tr>\n",
       "      <th>0</th>\n",
       "      <th></th>\n",
       "    </tr>\n",
       "  </thead>\n",
       "  <tbody>\n",
       "    <tr>\n",
       "      <th>2018-05-04 00:05:00</th>\n",
       "      <td>441</td>\n",
       "    </tr>\n",
       "    <tr>\n",
       "      <th>2018-05-04 01:05:00</th>\n",
       "      <td>441</td>\n",
       "    </tr>\n",
       "    <tr>\n",
       "      <th>2018-05-04 02:05:00</th>\n",
       "      <td>423</td>\n",
       "    </tr>\n",
       "    <tr>\n",
       "      <th>2018-05-04 03:05:00</th>\n",
       "      <td>406</td>\n",
       "    </tr>\n",
       "    <tr>\n",
       "      <th>2018-05-04 04:05:00</th>\n",
       "      <td>409</td>\n",
       "    </tr>\n",
       "  </tbody>\n",
       "</table>\n",
       "</div>"
      ],
      "text/plain": [
       "                       1\n",
       "0                       \n",
       "2018-05-04 00:05:00  441\n",
       "2018-05-04 01:05:00  441\n",
       "2018-05-04 02:05:00  423\n",
       "2018-05-04 03:05:00  406\n",
       "2018-05-04 04:05:00  409"
      ]
     },
     "execution_count": 114,
     "metadata": {},
     "output_type": "execute_result"
    }
   ],
   "source": [
    "predictions = tb.predict(x_submit)\n",
    "y_submit.iloc[:, 0] = predictions.round().astype(int)\n",
    "y_submit.head()"
   ]
  },
  {
   "cell_type": "code",
   "execution_count": 112,
   "metadata": {},
   "outputs": [],
   "source": [
    "with open('predictions.csv', 'w') as f:\n",
    "    f.write(y_submit.to_csv(sep=';', header=False))"
   ]
  }
 ],
 "metadata": {
  "kernelspec": {
   "display_name": "Python 3",
   "language": "python",
   "name": "python3"
  },
  "language_info": {
   "codemirror_mode": {
    "name": "ipython",
    "version": 3
   },
   "file_extension": ".py",
   "mimetype": "text/x-python",
   "name": "python",
   "nbconvert_exporter": "python",
   "pygments_lexer": "ipython3",
   "version": "3.7.3"
  }
 },
 "nbformat": 4,
 "nbformat_minor": 2
}
