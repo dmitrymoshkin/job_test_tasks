{
 "cells": [
  {
   "cell_type": "markdown",
   "metadata": {},
   "source": [
    "***Задание 1***\n",
    "\n",
    "Подготовить аналитический отчет с программным кодом, \n",
    "\n",
    "Сотрудник службы оценки качества продукции заметил, что число бракованных листов стали в партии для стали марки A больше, чем для стали марки B. Также он обратил внимание, что при средней скорости прокатки более 4 м/с число бракованных листов больше. В соответствии с этими наблюдениями, предлагается снизить скорость прокатки и ввести дополнительные меры контроля качества для стали марки A.  \n",
    "\n",
    "---\n",
    "\n",
    "Обоснуйте, что:\n",
    "\n",
    "1)\tБолее 3 бракованных листов на партию выходит значимо чаще для стали марки А, чем для стали марки B.\n",
    "\n",
    "2)\tПри скоростях прокатки более 4 м/с свыше 3 бракованных листов стали на партию выходит значимо чаще, чем при меньших скоростях прокатки. \n",
    "\n",
    "---\n",
    "\n",
    "Данные, необходимые для анализа, содержатся в файле «Статистика за 2018 год». Количество листов стали в каждой партии предполагается одинаковым. \n"
   ]
  },
  {
   "cell_type": "code",
   "execution_count": 27,
   "metadata": {},
   "outputs": [],
   "source": [
    "import numpy as np\n",
    "import pandas as pd\n",
    "import seaborn as sns\n",
    "import sklearn\n",
    "import scipy\n",
    "from matplotlib import pyplot as plt\n",
    "from statsmodels.stats.weightstats import *\n",
    "from statsmodels.stats.proportion import proportion_confint\n",
    "\n",
    "%matplotlib inline"
   ]
  },
  {
   "cell_type": "code",
   "execution_count": 28,
   "metadata": {
    "scrolled": false
   },
   "outputs": [
    {
     "data": {
      "text/html": [
       "<div>\n",
       "<style scoped>\n",
       "    .dataframe tbody tr th:only-of-type {\n",
       "        vertical-align: middle;\n",
       "    }\n",
       "\n",
       "    .dataframe tbody tr th {\n",
       "        vertical-align: top;\n",
       "    }\n",
       "\n",
       "    .dataframe thead th {\n",
       "        text-align: right;\n",
       "    }\n",
       "</style>\n",
       "<table border=\"1\" class=\"dataframe\">\n",
       "  <thead>\n",
       "    <tr style=\"text-align: right;\">\n",
       "      <th></th>\n",
       "      <th>Число бракованных листов</th>\n",
       "      <th>Скорость прокатки</th>\n",
       "      <th>Марка стали</th>\n",
       "    </tr>\n",
       "  </thead>\n",
       "  <tbody>\n",
       "    <tr>\n",
       "      <th>0</th>\n",
       "      <td>3</td>\n",
       "      <td>3.8</td>\n",
       "      <td>A</td>\n",
       "    </tr>\n",
       "    <tr>\n",
       "      <th>1</th>\n",
       "      <td>3</td>\n",
       "      <td>3.8</td>\n",
       "      <td>B</td>\n",
       "    </tr>\n",
       "    <tr>\n",
       "      <th>2</th>\n",
       "      <td>3</td>\n",
       "      <td>4.8</td>\n",
       "      <td>B</td>\n",
       "    </tr>\n",
       "    <tr>\n",
       "      <th>3</th>\n",
       "      <td>4</td>\n",
       "      <td>4.4</td>\n",
       "      <td>B</td>\n",
       "    </tr>\n",
       "    <tr>\n",
       "      <th>4</th>\n",
       "      <td>6</td>\n",
       "      <td>5.0</td>\n",
       "      <td>B</td>\n",
       "    </tr>\n",
       "  </tbody>\n",
       "</table>\n",
       "</div>"
      ],
      "text/plain": [
       "   Число бракованных листов  Скорость прокатки Марка стали\n",
       "0                         3                3.8           A\n",
       "1                         3                3.8           B\n",
       "2                         3                4.8           B\n",
       "3                         4                4.4           B\n",
       "4                         6                5.0           B"
      ]
     },
     "execution_count": 28,
     "metadata": {},
     "output_type": "execute_result"
    }
   ],
   "source": [
    "df = pd.read_csv('Статистика за 2018 год.csv', encoding='mbcs')\n",
    "df.head()"
   ]
  },
  {
   "cell_type": "markdown",
   "metadata": {},
   "source": [
    "---"
   ]
  },
  {
   "cell_type": "code",
   "execution_count": 74,
   "metadata": {},
   "outputs": [
    {
     "data": {
      "image/png": "[encoded data removed]",
      "text/plain": [
       "<Figure size 432x288 with 1 Axes>"
      ]
     },
     "metadata": {},
     "output_type": "display_data"
    }
   ],
   "source": [
    "# На гистограмме наблюдается \"хвост\" в сторону бОльших значений брака\n",
    "\n",
    "sns.set_style(\"whitegrid\")\n",
    "df['Число бракованных листов'].hist(bins=8)\n",
    "plt.xlabel('число брака в партии');"
   ]
  },
  {
   "cell_type": "markdown",
   "metadata": {},
   "source": [
    "## 1."
   ]
  },
  {
   "cell_type": "markdown",
   "metadata": {},
   "source": [
    "Проверяется нулевая гипотеза против двусторонней альтернативы. Нулевая гипотеза: количество партий с браком более 3 для стали Марки A существенно не отличается от количества таких партий для стали марки B."
   ]
  },
  {
   "cell_type": "markdown",
   "metadata": {},
   "source": [
    "Создадим две подвыбоки: со случаями при использовании стали марки A и со случаями при использовании стали марки B."
   ]
  },
  {
   "cell_type": "code",
   "execution_count": 62,
   "metadata": {
    "scrolled": true
   },
   "outputs": [
    {
     "data": {
      "text/plain": [
       "(139, 98)"
      ]
     },
     "execution_count": 62,
     "metadata": {},
     "output_type": "execute_result"
    }
   ],
   "source": [
    "A_steel_sample = df.iloc[:, 0][df.iloc[:, 2] == 'A']\n",
    "B_steel_sample = df.iloc[:, 0][df.iloc[:, 2] == 'B']\n",
    "len(A_steel_sample), len(B_steel_sample)"
   ]
  },
  {
   "cell_type": "markdown",
   "metadata": {},
   "source": [
    "Построим доверительный интервал для каждой из подвыборок:"
   ]
  },
  {
   "cell_type": "code",
   "execution_count": 59,
   "metadata": {},
   "outputs": [
    {
     "name": "stdout",
     "output_type": "stream",
     "text": [
      "95% интервал доли высокого брака для стали марки A:\n",
      "(0.30477198893429336, 0.46420264719411386)\n",
      "\n",
      "95% интервал доли высокого брака для стали марки B:\n",
      "(0.35428362283811105, 0.5475245394192033)\n"
     ]
    }
   ],
   "source": [
    "A_steel_interval = proportion_confint(sum(A_steel_sample > 3),\n",
    "                                            len(A_steel_sample),\n",
    "                                            method = 'wilson')\n",
    "B_steel_interval = proportion_confint(sum(B_steel_sample > 3),\n",
    "                                            len(B_steel_sample),\n",
    "                                            method = 'wilson')\n",
    "print('95% интервал доли высокого брака для стали марки A:\\n' + str(A_steel_interval)+'\\n')\n",
    "print('95% интервал доли высокого брака для стали марки B:\\n' + str(B_steel_interval))"
   ]
  },
  {
   "cell_type": "markdown",
   "metadata": {},
   "source": [
    "Интервалы пересекаются. Построим интервал для двух долей:"
   ]
  },
  {
   "cell_type": "code",
   "execution_count": 61,
   "metadata": {},
   "outputs": [
    {
     "data": {
      "text/plain": [
       "(-0.1950317130119046, 0.059662457395989216)"
      ]
     },
     "execution_count": 61,
     "metadata": {},
     "output_type": "execute_result"
    }
   ],
   "source": [
    "proportions_diff_confint_ind(A_steel_sample > 3, B_steel_sample > 3)"
   ]
  },
  {
   "cell_type": "markdown",
   "metadata": {},
   "source": [
    "Интервал включает в себя 0, гипотеза о равенстве распределений в обоих подвыборках не отвергается.\n",
    "\n",
    "Посчитаем достигаемый уровень значимости с помощью Z-критерия для двух долей при независимых выборках:"
   ]
  },
  {
   "cell_type": "code",
   "execution_count": 64,
   "metadata": {},
   "outputs": [
    {
     "name": "stdout",
     "output_type": "stream",
     "text": [
      "p-value: 0.296670\n"
     ]
    }
   ],
   "source": [
    "print('p-value: %f' % proportions_diff_z_test(proportions_diff_z_stat_ind(A_steel_sample > 3, B_steel_sample > 3),\n",
    "                       alternative='two-sided'))"
   ]
  },
  {
   "cell_type": "markdown",
   "metadata": {},
   "source": [
    "На уровне значимости 0.05 нулевая гипотеза не отвергается. Альтернативная гипотеза не может быть обоснована."
   ]
  },
  {
   "cell_type": "markdown",
   "metadata": {},
   "source": [
    "## 2."
   ]
  },
  {
   "cell_type": "markdown",
   "metadata": {},
   "source": [
    "Проверяется нулевая гипотеза против двусторонней альтернативы. Нулевая гипотеза: количество партий с браком больше 3 единиц при скорости прокатки стали до 4 м/с включительно, существенно не отличается от количества таких партий при скорости прокатки более 4 м/с."
   ]
  },
  {
   "cell_type": "code",
   "execution_count": 75,
   "metadata": {
    "scrolled": true
   },
   "outputs": [
    {
     "data": {
      "image/png": "[encoded data removed]",
      "text/plain": [
       "<Figure size 720x360 with 1 Axes>"
      ]
     },
     "metadata": {},
     "output_type": "display_data"
    }
   ],
   "source": [
    "sns.set_style(\"whitegrid\")\n",
    "fig = plt.figure(figsize=(10, 5))\n",
    "plt.scatter(df.iloc[:, 0], df.iloc[:, 1].values)\n",
    "plt.xlabel('Количество брака в партии')\n",
    "plt.ylabel('Скорость прокатки, м/с');"
   ]
  },
  {
   "cell_type": "markdown",
   "metadata": {},
   "source": [
    "Диаграмма рассеяния не вносит ясности на существование зависимости между целевыми значениями меток и значениями скорости"
   ]
  },
  {
   "cell_type": "markdown",
   "metadata": {},
   "source": [
    "Создадим две подвыборки: с порогом скорости <= 4 м/с и порогом скорости > 4 м/с."
   ]
  },
  {
   "cell_type": "code",
   "execution_count": 29,
   "metadata": {},
   "outputs": [
    {
     "data": {
      "text/plain": [
       "(58, 179)"
      ]
     },
     "execution_count": 29,
     "metadata": {},
     "output_type": "execute_result"
    }
   ],
   "source": [
    "low_speed_sample = df.iloc[:, 0][df.iloc[:, 1] <= 4]\n",
    "high_speed_sample = df.iloc[:, 0][df.iloc[:, 1] > 4]\n",
    "len(low_speed_sample), len(high_speed_sample)"
   ]
  },
  {
   "cell_type": "markdown",
   "metadata": {},
   "source": [
    "В подвыборке с событиями при скоростьи проката менее 4 м/c данных довольно мало.\n",
    "\n",
    "Доверительные интервалы для каждой из подвыборок:"
   ]
  },
  {
   "cell_type": "code",
   "execution_count": 65,
   "metadata": {},
   "outputs": [
    {
     "name": "stdout",
     "output_type": "stream",
     "text": [
      "95% интервал доли высокого брака на скорости менее 4 м/c:\n",
      "(0.28088757794874364, 0.525067840489988)\n",
      "\n",
      "95% интервал доли высокого брака на скорости более 4 м/c:\n",
      "(0.3438252891869018, 0.4866289185187993)\n"
     ]
    }
   ],
   "source": [
    "low_speed_interval = proportion_confint(sum(low_speed_sample > 3),\n",
    "                                            len(low_speed_sample),\n",
    "                                            method = 'wilson')\n",
    "high_speed_interval = proportion_confint(sum(high_speed_sample > 3),\n",
    "                                            len(high_speed_sample),\n",
    "                                            method = 'wilson')\n",
    "print('95% интервал доли высокого брака на скорости менее 4 м/c:\\n' + str(low_speed_interval)+'\\n')\n",
    "print('95% интервал доли высокого брака на скорости более 4 м/c:\\n' + str(high_speed_interval))"
   ]
  },
  {
   "cell_type": "markdown",
   "metadata": {},
   "source": [
    "Первый интервал получился очень широким в силу малого количества данных и полностью накрывает второй."
   ]
  },
  {
   "cell_type": "markdown",
   "metadata": {},
   "source": [
    "Построим доверительный интервал для двух долей:"
   ]
  },
  {
   "cell_type": "code",
   "execution_count": 34,
   "metadata": {},
   "outputs": [],
   "source": [
    "def proportions_diff_confint_ind(sample1, sample2, alpha = 0.05):    \n",
    "    z = scipy.stats.norm.ppf(1 - alpha / 2.)\n",
    "    \n",
    "    p1 = float(sum(sample1)) / len(sample1)\n",
    "    p2 = float(sum(sample2)) / len(sample2)\n",
    "    \n",
    "    left_boundary = (p1 - p2) - z * np.sqrt(p1 * (1 - p1)/ len(sample1) + p2 * (1 - p2)/ len(sample2))\n",
    "    right_boundary = (p1 - p2) + z * np.sqrt(p1 * (1 - p1)/ len(sample1) + p2 * (1 - p2)/ len(sample2))\n",
    "    \n",
    "    return (left_boundary, right_boundary)"
   ]
  },
  {
   "cell_type": "code",
   "execution_count": 36,
   "metadata": {},
   "outputs": [
    {
     "data": {
      "text/plain": [
       "(-0.12824206396770027, 0.16195425814993875)"
      ]
     },
     "execution_count": 36,
     "metadata": {},
     "output_type": "execute_result"
    }
   ],
   "source": [
    "proportions_diff_confint_ind(high_speed_sample > 3, low_speed_sample > 3)"
   ]
  },
  {
   "cell_type": "markdown",
   "metadata": {},
   "source": [
    "Интервал включает 0, нулевая гипотеза не отвергается."
   ]
  },
  {
   "cell_type": "markdown",
   "metadata": {},
   "source": [
    "Посчитаем достигаемый уровень значимости с помощью Z-критерия для долей при независимых выборках:"
   ]
  },
  {
   "cell_type": "code",
   "execution_count": 37,
   "metadata": {},
   "outputs": [],
   "source": [
    "def proportions_diff_z_stat_ind(sample1, sample2):\n",
    "    n1 = len(sample1)\n",
    "    n2 = len(sample2)\n",
    "    \n",
    "    p1 = float(sum(sample1)) / n1\n",
    "    p2 = float(sum(sample2)) / n2 \n",
    "    P = float(p1*n1 + p2*n2) / (n1 + n2)\n",
    "    \n",
    "    return (p1 - p2) / np.sqrt(P * (1 - P) * (1. / n1 + 1. / n2))"
   ]
  },
  {
   "cell_type": "code",
   "execution_count": 39,
   "metadata": {},
   "outputs": [],
   "source": [
    "def proportions_diff_z_test(z_stat, alternative = 'two-sided'):\n",
    "    if alternative not in ('two-sided', 'less', 'greater'):\n",
    "        raise ValueError(\"alternative not recognized\\n\"\n",
    "                         \"should be 'two-sided', 'less' or 'greater'\")\n",
    "    \n",
    "    if alternative == 'two-sided':\n",
    "        return 2 * (1 - scipy.stats.norm.cdf(np.abs(z_stat)))\n",
    "    \n",
    "    if alternative == 'less':\n",
    "        return scipy.stats.norm.cdf(z_stat)\n",
    "\n",
    "    if alternative == 'greater':\n",
    "        return 1 - scipy.stats.norm.cdf(z_stat)"
   ]
  },
  {
   "cell_type": "code",
   "execution_count": 46,
   "metadata": {},
   "outputs": [
    {
     "name": "stdout",
     "output_type": "stream",
     "text": [
      "p-value: 0.820507\n"
     ]
    }
   ],
   "source": [
    "print('p-value: %f' % proportions_diff_z_test(proportions_diff_z_stat_ind(high_speed_sample > 3, low_speed_sample > 3),\n",
    "                       alternative='two-sided'))"
   ]
  },
  {
   "cell_type": "markdown",
   "metadata": {},
   "source": [
    "На уровне значимости 0.05 нулевая гипотеза не отвергается.\n",
    "\n",
    "Вывод: имеющиеся данные не позволяют отвергнуть гипотезу о равенстве распределений брака в подвыборках с разными скоростями - альтернативная гипотеза не может быть обоснована. При этом в имеющейся выборке относительно мало данных для случаев со скоростью менее 4 м/с."
   ]
  },
  {
   "cell_type": "code",
   "execution_count": null,
   "metadata": {},
   "outputs": [],
   "source": []
  }
 ],
 "metadata": {
  "kernelspec": {
   "display_name": "Python 3",
   "language": "python",
   "name": "python3"
  },
  "language_info": {
   "codemirror_mode": {
    "name": "ipython",
    "version": 3
   },
   "file_extension": ".py",
   "mimetype": "text/x-python",
   "name": "python",
   "nbconvert_exporter": "python",
   "pygments_lexer": "ipython3",
   "version": "3.7.3"
  }
 },
 "nbformat": 4,
 "nbformat_minor": 2
}
